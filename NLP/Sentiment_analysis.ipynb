{
 "cells": [
  {
   "cell_type": "markdown",
   "metadata": {},
   "source": [
    "## Preparing text data for Tensorflow"
   ]
  },
  {
   "cell_type": "code",
   "execution_count": 4,
   "metadata": {},
   "outputs": [],
   "source": [
    "# The high level steps to prepare text to be used in a machine learning model are:\n",
    "\n",
    "# Tokenize the words to get numerical values for them\n",
    "# Create numerical sequences of the sentences\n",
    "# Adjust the sequences to all be the same length."
   ]
  },
  {
   "cell_type": "code",
   "execution_count": 26,
   "metadata": {},
   "outputs": [],
   "source": [
    "import tensorflow as tf\n",
    "import os\n",
    "import numpy as np\n",
    "import pandas as pd\n",
    "# Import Tokenizer and pad_sequences\n",
    "from tensorflow.keras.preprocessing.text import Tokenizer\n",
    "from tensorflow.keras.preprocessing.sequence import pad_sequences\n"
   ]
  },
  {
   "cell_type": "code",
   "execution_count": 14,
   "metadata": {},
   "outputs": [],
   "source": [
    "path_df = os.getcwd()+\"/combined_data.csv\""
   ]
  },
  {
   "cell_type": "code",
   "execution_count": null,
   "metadata": {},
   "outputs": [],
   "source": []
  },
  {
   "cell_type": "code",
   "execution_count": 17,
   "metadata": {},
   "outputs": [
    {
     "name": "stdout",
     "output_type": "stream",
     "text": [
      "['My favorite food is ice cream', 'do you like ice cream too?', 'My dog likes ice cream!', 'your favorite flavor of icecream is chocolate', \"chocolate isn't good for dogs\", 'your dog, your cat, and your parrot prefer broccoli']\n"
     ]
    }
   ],
   "source": [
    "#Example sentences \n",
    "\n",
    "sentences = [\n",
    "    'My favorite food is ice cream',\n",
    "    'do you like ice cream too?',\n",
    "    'My dog likes ice cream!',\n",
    "    \"your favorite flavor of icecream is chocolate\",\n",
    "    \"chocolate isn't good for dogs\",\n",
    "    \"your dog, your cat, and your parrot prefer broccoli\"\n",
    "]\n",
    "print(sentences)"
   ]
  },
  {
   "cell_type": "markdown",
   "metadata": {},
   "source": [
    "### Create the Tokenizer and define an out of vocabulary token"
   ]
  },
  {
   "cell_type": "code",
   "execution_count": 18,
   "metadata": {},
   "outputs": [],
   "source": [
    "tokenizer = Tokenizer(num_words = 100, oov_token=\"<OOV>\")"
   ]
  },
  {
   "cell_type": "code",
   "execution_count": 19,
   "metadata": {},
   "outputs": [],
   "source": [
    "# Tokenise the words "
   ]
  },
  {
   "cell_type": "code",
   "execution_count": 20,
   "metadata": {},
   "outputs": [
    {
     "name": "stdout",
     "output_type": "stream",
     "text": [
      "{'<OOV>': 1, 'your': 2, 'ice': 3, 'cream': 4, 'my': 5, 'favorite': 6, 'is': 7, 'dog': 8, 'chocolate': 9, 'food': 10, 'do': 11, 'you': 12, 'like': 13, 'too': 14, 'likes': 15, 'flavor': 16, 'of': 17, 'icecream': 18, \"isn't\": 19, 'good': 20, 'for': 21, 'dogs': 22, 'cat': 23, 'and': 24, 'parrot': 25, 'prefer': 26, 'broccoli': 27}\n"
     ]
    }
   ],
   "source": [
    "tokenizer.fit_on_texts(sentences)\n",
    "word_index = tokenizer.word_index\n",
    "print(word_index)"
   ]
  },
  {
   "cell_type": "markdown",
   "metadata": {},
   "source": [
    "### Turn sentences into sequences and do the padding of the sequences \n"
   ]
  },
  {
   "cell_type": "code",
   "execution_count": 21,
   "metadata": {},
   "outputs": [
    {
     "name": "stdout",
     "output_type": "stream",
     "text": [
      "[[ 5  6 10  7  3  4  0  0  0  0  0  0  0  0  0]\n",
      " [11 12 13  3  4 14  0  0  0  0  0  0  0  0  0]\n",
      " [ 5  8 15  3  4  0  0  0  0  0  0  0  0  0  0]\n",
      " [ 2  6 16 17 18  7  9  0  0  0  0  0  0  0  0]\n",
      " [ 9 19 20 21 22  0  0  0  0  0  0  0  0  0  0]\n",
      " [ 2  8  2 23 24  2 25 26 27  0  0  0  0  0  0]]\n",
      "[\"my best friend's favorite ice cream flavor is strawberry\", \"my dog's best friend is a manatee\"]\n",
      "<OOV> has the number 1 in the word index.\n",
      "\n",
      "Test Sequence =  [[5, 1, 1, 6, 3, 4, 16, 7, 1], [5, 1, 1, 1, 7, 1, 1]]\n",
      "\n",
      "Padded Test Sequence: \n",
      "[[ 0  5  1  1  6  3  4 16  7  1]\n",
      " [ 0  0  0  5  1  1  1  7  1  1]]\n"
     ]
    }
   ],
   "source": [
    "sequences  = tokenizer.texts_to_sequences(sentences)\n",
    "\n",
    "\n",
    "# add maxlength to padding sequence, padding start from backside of the array \"padding = \"post\", \n",
    "padded = pad_sequences(sequences, maxlen=15, padding=\"post\")\n",
    "print(padded)\n",
    "\n",
    "\n",
    "# if some words do not exist in the sentences, we will get values with 1 number as their encoding in sentences. \n",
    "# Try turning sentences that contain words that \n",
    "# aren't in the word index into sequences.\n",
    "\n",
    "# Add your own sentences to the test_data\n",
    "test_data = [\n",
    "    \"my best friend's favorite ice cream flavor is strawberry\",\n",
    "    \"my dog's best friend is a manatee\"\n",
    "]\n",
    "print (test_data)\n",
    "\n",
    "# Remind ourselves which number corresponds to the\n",
    "# out of vocabulary token in the word index\n",
    "print(\"<OOV> has the number\", word_index['<OOV>'], \"in the word index.\")\n",
    "\n",
    "# Convert the test sentences to sequences\n",
    "test_seq = tokenizer.texts_to_sequences(test_data)\n",
    "print(\"\\nTest Sequence = \", test_seq)\n",
    "\n",
    "# Pad the new sequences\n",
    "padded = pad_sequences(test_seq, maxlen=10)\n",
    "print(\"\\nPadded Test Sequence: \")\n",
    "\n",
    "# Notice that \"1\" appears in the sequence wherever there's a word \n",
    "# that's not in the word index\n",
    "print(padded)"
   ]
  },
  {
   "cell_type": "markdown",
   "metadata": {},
   "source": [
    "## Sentiment Analysis Model using Embedding layer in NN"
   ]
  },
  {
   "cell_type": "code",
   "execution_count": null,
   "metadata": {},
   "outputs": [],
   "source": [
    "#Word2Vec, Glove has pretrained word_2_vec embeddings "
   ]
  },
  {
   "cell_type": "code",
   "execution_count": 32,
   "metadata": {},
   "outputs": [],
   "source": [
    "dataset = pd.read_csv(path_df)\n",
    "\n",
    "sentences = dataset['text'].tolist()\n",
    "labels = dataset['sentiment'].tolist()\n",
    "\n",
    "# Separate out the sentences and labels into training and test sets\n",
    "training_size = int(len(sentences) * 0.8)\n",
    "\n",
    "training_sentences = sentences[0:training_size]\n",
    "testing_sentences = sentences[training_size:]\n",
    "training_labels = labels[0:training_size]\n",
    "testing_labels = labels[training_size:]\n",
    "\n",
    "# Make labels into numpy arrays for use with the network later\n",
    "training_labels_final = np.array(training_labels)\n",
    "testing_labels_final = np.array(testing_labels)"
   ]
  },
  {
   "cell_type": "markdown",
   "metadata": {},
   "source": [
    "### Tokenise the dataset"
   ]
  },
  {
   "cell_type": "code",
   "execution_count": 33,
   "metadata": {},
   "outputs": [],
   "source": [
    "vocab_size = 1000\n",
    "embedding_dim = 16\n",
    "max_length = 100\n",
    "trunc_type='post'\n",
    "padding_type='post'\n",
    "oov_tok = \"<OOV>\"\n",
    "\n",
    "# Tokeniser using oov for out of vector word marking\n",
    "tokenizer = Tokenizer(num_words = vocab_size, oov_token=oov_tok)\n",
    "\n",
    "# fitting the model\n",
    "tokenizer.fit_on_texts(training_sentences)\n",
    "\n",
    "\n",
    "# map the work embeddings\n",
    "word_index = tokenizer.word_index\n",
    "\n",
    "# generate sequence from sentences \n",
    "sequences = tokenizer.texts_to_sequences(training_sentences)\n",
    "\n",
    "# padding the sequenecs \n",
    "padded = pad_sequences(sequences,maxlen=max_length, padding=padding_type, \n",
    "                       truncating=trunc_type)\n",
    "\n",
    "# testing the sequences \n",
    "testing_sequences = tokenizer.texts_to_sequences(testing_sentences)\n",
    "\n",
    "# testing the padding\n",
    "testing_padded = pad_sequences(testing_sequences,maxlen=max_length, \n",
    "                               padding=padding_type, truncating=trunc_type)"
   ]
  },
  {
   "cell_type": "code",
   "execution_count": 34,
   "metadata": {},
   "outputs": [
    {
     "name": "stdout",
     "output_type": "stream",
     "text": [
      "Model: \"sequential_2\"\n",
      "_________________________________________________________________\n",
      "Layer (type)                 Output Shape              Param #   \n",
      "=================================================================\n",
      "embedding_2 (Embedding)      (None, 100, 16)           16000     \n",
      "_________________________________________________________________\n",
      "flatten_2 (Flatten)          (None, 1600)              0         \n",
      "_________________________________________________________________\n",
      "dense_4 (Dense)              (None, 6)                 9606      \n",
      "_________________________________________________________________\n",
      "dense_5 (Dense)              (None, 1)                 7         \n",
      "=================================================================\n",
      "Total params: 25,613\n",
      "Trainable params: 25,613\n",
      "Non-trainable params: 0\n",
      "_________________________________________________________________\n"
     ]
    }
   ],
   "source": [
    "## Making a model using embeddings using embedding layer is first (always), \n",
    "# and the output is only 1 node as it is either 0 or 1 (negative or positive)\n",
    "\n",
    "\n",
    "# creting models\n",
    "model = tf.keras.Sequential([\n",
    "    tf.keras.layers.Embedding(vocab_size, embedding_dim, input_length=max_length),\n",
    "    tf.keras.layers.Flatten(),\n",
    "    tf.keras.layers.Dense(6, activation='relu'),\n",
    "    tf.keras.layers.Dense(1, activation='sigmoid')\n",
    "])\n",
    "\n",
    "# model compilation \n",
    "model.compile(loss='binary_crossentropy',optimizer='adam',metrics=['accuracy'])\n",
    "model.summary()"
   ]
  },
  {
   "cell_type": "code",
   "execution_count": 35,
   "metadata": {},
   "outputs": [
    {
     "name": "stdout",
     "output_type": "stream",
     "text": [
      "Train on 1593 samples, validate on 399 samples\n",
      "Epoch 1/20\n",
      "1593/1593 [==============================] - 1s 405us/sample - loss: 0.6918 - accuracy: 0.5261 - val_loss: 0.6897 - val_accuracy: 0.5940\n",
      "Epoch 2/20\n",
      "1593/1593 [==============================] - 0s 93us/sample - loss: 0.6822 - accuracy: 0.5794 - val_loss: 0.6895 - val_accuracy: 0.4887\n",
      "Epoch 3/20\n",
      "1593/1593 [==============================] - 0s 77us/sample - loss: 0.6455 - accuracy: 0.6955 - val_loss: 0.6619 - val_accuracy: 0.6040\n",
      "Epoch 4/20\n",
      "1593/1593 [==============================] - 0s 135us/sample - loss: 0.5544 - accuracy: 0.8261 - val_loss: 0.5783 - val_accuracy: 0.7393\n",
      "Epoch 5/20\n",
      "1593/1593 [==============================] - 0s 135us/sample - loss: 0.4287 - accuracy: 0.8845 - val_loss: 0.5306 - val_accuracy: 0.7619\n",
      "Epoch 6/20\n",
      "1593/1593 [==============================] - 0s 96us/sample - loss: 0.3183 - accuracy: 0.9228 - val_loss: 0.4783 - val_accuracy: 0.7719\n",
      "Epoch 7/20\n",
      "1593/1593 [==============================] - 0s 85us/sample - loss: 0.2430 - accuracy: 0.9316 - val_loss: 0.4734 - val_accuracy: 0.7694\n",
      "Epoch 8/20\n",
      "1593/1593 [==============================] - 0s 90us/sample - loss: 0.1870 - accuracy: 0.9598 - val_loss: 0.4748 - val_accuracy: 0.7619\n",
      "Epoch 9/20\n",
      "1593/1593 [==============================] - 0s 79us/sample - loss: 0.1478 - accuracy: 0.9667 - val_loss: 0.4936 - val_accuracy: 0.7393\n",
      "Epoch 10/20\n",
      "1593/1593 [==============================] - 0s 102us/sample - loss: 0.1154 - accuracy: 0.9774 - val_loss: 0.4660 - val_accuracy: 0.7895\n",
      "Epoch 11/20\n",
      "1593/1593 [==============================] - 0s 109us/sample - loss: 0.0954 - accuracy: 0.9831 - val_loss: 0.4910 - val_accuracy: 0.7619\n",
      "Epoch 12/20\n",
      "1593/1593 [==============================] - 0s 89us/sample - loss: 0.0773 - accuracy: 0.9874 - val_loss: 0.5051 - val_accuracy: 0.7619\n",
      "Epoch 13/20\n",
      "1593/1593 [==============================] - 0s 112us/sample - loss: 0.0643 - accuracy: 0.9931 - val_loss: 0.5281 - val_accuracy: 0.7544\n",
      "Epoch 14/20\n",
      "1593/1593 [==============================] - 0s 116us/sample - loss: 0.0548 - accuracy: 0.9912 - val_loss: 0.5622 - val_accuracy: 0.7444\n",
      "Epoch 15/20\n",
      "1593/1593 [==============================] - 0s 117us/sample - loss: 0.0468 - accuracy: 0.9937 - val_loss: 0.5430 - val_accuracy: 0.7619\n",
      "Epoch 16/20\n",
      "1593/1593 [==============================] - 0s 130us/sample - loss: 0.0374 - accuracy: 0.9944 - val_loss: 0.5565 - val_accuracy: 0.7569\n",
      "Epoch 17/20\n",
      "1593/1593 [==============================] - 0s 108us/sample - loss: 0.0317 - accuracy: 0.9969 - val_loss: 0.5563 - val_accuracy: 0.7619\n",
      "Epoch 18/20\n",
      "1593/1593 [==============================] - 0s 153us/sample - loss: 0.0275 - accuracy: 0.9975 - val_loss: 0.5721 - val_accuracy: 0.7569\n",
      "Epoch 19/20\n",
      "1593/1593 [==============================] - 0s 130us/sample - loss: 0.0236 - accuracy: 0.9975 - val_loss: 0.5789 - val_accuracy: 0.7669\n",
      "Epoch 20/20\n",
      "1593/1593 [==============================] - 0s 154us/sample - loss: 0.0216 - accuracy: 0.9981 - val_loss: 0.6070 - val_accuracy: 0.7519\n"
     ]
    },
    {
     "data": {
      "text/plain": [
       "<tensorflow.python.keras.callbacks.History at 0x1366aebd0>"
      ]
     },
     "execution_count": 35,
     "metadata": {},
     "output_type": "execute_result"
    }
   ],
   "source": [
    "num_epochs = 20\n",
    "\n",
    "\n",
    "model.fit(padded, training_labels_final, epochs=num_epochs,\n",
    "          validation_data=(testing_padded, testing_labels_final))"
   ]
  },
  {
   "cell_type": "code",
   "execution_count": 36,
   "metadata": {},
   "outputs": [
    {
     "name": "stdout",
     "output_type": "stream",
     "text": [
      "['I love this phone', 'I hate spaghetti', 'Everything was cold', 'Everything was hot exactly as I wanted', 'Everything was green', 'the host seated us immediately', 'they gave us free chocolate cake', 'not sure about the wilted flowers on the table', 'only works when I stand on tippy toes', 'does not work when I stand on my head']\n",
      "\n",
      "HOT OFF THE PRESS! HERE ARE SOME NEWLY MINTED, ABSOLUTELY GENUINE REVIEWS!\n",
      "\n",
      "I love this phone\n",
      "[0.9989819]\n",
      "\n",
      "\n",
      "I hate spaghetti\n",
      "[0.00496294]\n",
      "\n",
      "\n",
      "Everything was cold\n",
      "[0.07408956]\n",
      "\n",
      "\n",
      "Everything was hot exactly as I wanted\n",
      "[0.27716425]\n",
      "\n",
      "\n",
      "Everything was green\n",
      "[0.19495757]\n",
      "\n",
      "\n",
      "the host seated us immediately\n",
      "[0.9793767]\n",
      "\n",
      "\n",
      "they gave us free chocolate cake\n",
      "[0.99142224]\n",
      "\n",
      "\n",
      "not sure about the wilted flowers on the table\n",
      "[0.00218304]\n",
      "\n",
      "\n",
      "only works when I stand on tippy toes\n",
      "[0.9965418]\n",
      "\n",
      "\n",
      "does not work when I stand on my head\n",
      "[0.0012881]\n",
      "\n",
      "\n"
     ]
    }
   ],
   "source": [
    "## Predicting sentiments of new sentences \n",
    "# Use the model to predict a review   \n",
    "fake_reviews = ['I love this phone', 'I hate spaghetti', \n",
    "                'Everything was cold',\n",
    "                'Everything was hot exactly as I wanted', \n",
    "                'Everything was green', \n",
    "                'the host seated us immediately',\n",
    "                'they gave us free chocolate cake', \n",
    "                'not sure about the wilted flowers on the table',\n",
    "                'only works when I stand on tippy toes', \n",
    "                'does not work when I stand on my head']\n",
    "\n",
    "print(fake_reviews) \n",
    "\n",
    "# Create the sequences\n",
    "padding_type='post'\n",
    "sample_sequences = tokenizer.texts_to_sequences(fake_reviews)\n",
    "fakes_padded = pad_sequences(sample_sequences, padding=padding_type, maxlen=max_length)           \n",
    "\n",
    "print('\\nHOT OFF THE PRESS! HERE ARE SOME NEWLY MINTED, ABSOLUTELY GENUINE REVIEWS!\\n')              \n",
    "\n",
    "classes = model.predict(fakes_padded)\n",
    "\n",
    "# The closer the class is to 1, the more positive the review is deemed to be\n",
    "for x in range(len(fake_reviews)):\n",
    "    print(fake_reviews[x])\n",
    "    print(classes[x])\n",
    "    print('\\n')\n",
    "\n",
    "# Try adding reviews of your own\n",
    "# Add some negative words (such as \"not\") to the good reviews and see what happens\n",
    "# For example:\n",
    "# they gave us free chocolate cake and did not charge us"
   ]
  },
  {
   "cell_type": "markdown",
   "metadata": {},
   "source": [
    "### Tweaking the model "
   ]
  },
  {
   "cell_type": "code",
   "execution_count": 39,
   "metadata": {},
   "outputs": [],
   "source": [
    "# reduced vocab size \n",
    "vocab_size = 500\n",
    "embedding_dim = 16\n",
    "max_length = 50\n",
    "trunc_type='post'\n",
    "padding_type='post'\n",
    "oov_tok = \"<OOV>\"\n",
    "\n",
    "\n",
    "tokenizer = Tokenizer(num_words = vocab_size, oov_token=oov_tok)\n",
    "tokenizer.fit_on_texts(training_sentences)\n",
    "\n",
    "word_index = tokenizer.word_index\n",
    "training_sequences = tokenizer.texts_to_sequences(training_sentences)\n",
    "\n",
    "training_padded = pad_sequences(training_sequences, maxlen=max_length, padding=padding_type, truncating=trunc_type)\n",
    "\n",
    "testing_sequences = tokenizer.texts_to_sequences(testing_sentences)\n",
    "\n",
    "testing_padded = pad_sequences(testing_sequences, maxlen=max_length, padding=padding_type, truncating=trunc_type)"
   ]
  },
  {
   "cell_type": "code",
   "execution_count": 40,
   "metadata": {},
   "outputs": [
    {
     "name": "stdout",
     "output_type": "stream",
     "text": [
      "Model: \"sequential_3\"\n",
      "_________________________________________________________________\n",
      "Layer (type)                 Output Shape              Param #   \n",
      "=================================================================\n",
      "embedding_3 (Embedding)      (None, 50, 16)            8000      \n",
      "_________________________________________________________________\n",
      "global_average_pooling1d (Gl (None, 16)                0         \n",
      "_________________________________________________________________\n",
      "dense_6 (Dense)              (None, 6)                 102       \n",
      "_________________________________________________________________\n",
      "dense_7 (Dense)              (None, 1)                 7         \n",
      "=================================================================\n",
      "Total params: 8,109\n",
      "Trainable params: 8,109\n",
      "Non-trainable params: 0\n",
      "_________________________________________________________________\n"
     ]
    }
   ],
   "source": [
    "# using global average pooling \n",
    "\n",
    "model = tf.keras.Sequential([\n",
    "    tf.keras.layers.Embedding(vocab_size, embedding_dim, input_length=max_length),\n",
    "    tf.keras.layers.GlobalAveragePooling1D(),\n",
    "    tf.keras.layers.Dense(6, activation='relu'),\n",
    "    tf.keras.layers.Dense(1, activation='sigmoid')\n",
    "])\n",
    "model.compile(loss='binary_crossentropy',optimizer='adam',metrics=['accuracy'])\n",
    "model.summary()"
   ]
  },
  {
   "cell_type": "code",
   "execution_count": 41,
   "metadata": {},
   "outputs": [
    {
     "name": "stdout",
     "output_type": "stream",
     "text": [
      "Train on 1593 samples, validate on 399 samples\n",
      "Epoch 1/30\n",
      "1593/1593 [==============================] - 1s 453us/sample - loss: 0.6927 - accuracy: 0.5085 - val_loss: 0.6956 - val_accuracy: 0.4110\n",
      "Epoch 2/30\n",
      "1593/1593 [==============================] - 0s 88us/sample - loss: 0.6902 - accuracy: 0.5223 - val_loss: 0.6966 - val_accuracy: 0.4110\n",
      "Epoch 3/30\n",
      "1593/1593 [==============================] - 0s 124us/sample - loss: 0.6871 - accuracy: 0.5405 - val_loss: 0.6941 - val_accuracy: 0.4411\n",
      "Epoch 4/30\n",
      "1593/1593 [==============================] - 0s 148us/sample - loss: 0.6819 - accuracy: 0.5612 - val_loss: 0.6915 - val_accuracy: 0.4762\n",
      "Epoch 5/30\n",
      "1593/1593 [==============================] - 0s 160us/sample - loss: 0.6726 - accuracy: 0.6045 - val_loss: 0.6832 - val_accuracy: 0.5088\n",
      "Epoch 6/30\n",
      "1593/1593 [==============================] - 0s 124us/sample - loss: 0.6579 - accuracy: 0.6604 - val_loss: 0.6658 - val_accuracy: 0.6165\n",
      "Epoch 7/30\n",
      "1593/1593 [==============================] - 0s 82us/sample - loss: 0.6372 - accuracy: 0.7075 - val_loss: 0.6465 - val_accuracy: 0.6642\n",
      "Epoch 8/30\n",
      "1593/1593 [==============================] - 0s 119us/sample - loss: 0.6114 - accuracy: 0.7546 - val_loss: 0.6358 - val_accuracy: 0.6216\n",
      "Epoch 9/30\n",
      "1593/1593 [==============================] - 0s 126us/sample - loss: 0.5796 - accuracy: 0.7803 - val_loss: 0.6056 - val_accuracy: 0.7243\n",
      "Epoch 10/30\n",
      "1593/1593 [==============================] - 0s 105us/sample - loss: 0.5434 - accuracy: 0.8085 - val_loss: 0.5860 - val_accuracy: 0.7093\n",
      "Epoch 11/30\n",
      "1593/1593 [==============================] - 0s 98us/sample - loss: 0.5104 - accuracy: 0.8092 - val_loss: 0.5591 - val_accuracy: 0.7519\n",
      "Epoch 12/30\n",
      "1593/1593 [==============================] - 0s 111us/sample - loss: 0.4763 - accuracy: 0.8343 - val_loss: 0.5426 - val_accuracy: 0.7544\n",
      "Epoch 13/30\n",
      "1593/1593 [==============================] - 0s 129us/sample - loss: 0.4450 - accuracy: 0.8456 - val_loss: 0.5209 - val_accuracy: 0.7719\n",
      "Epoch 14/30\n",
      "1593/1593 [==============================] - 0s 102us/sample - loss: 0.4183 - accuracy: 0.8456 - val_loss: 0.5604 - val_accuracy: 0.6717\n",
      "Epoch 15/30\n",
      "1593/1593 [==============================] - 0s 195us/sample - loss: 0.3933 - accuracy: 0.8544 - val_loss: 0.5081 - val_accuracy: 0.7494\n",
      "Epoch 16/30\n",
      "1593/1593 [==============================] - 0s 181us/sample - loss: 0.3723 - accuracy: 0.8619 - val_loss: 0.5053 - val_accuracy: 0.7494\n",
      "Epoch 17/30\n",
      "1593/1593 [==============================] - 0s 179us/sample - loss: 0.3554 - accuracy: 0.8669 - val_loss: 0.5186 - val_accuracy: 0.7218\n",
      "Epoch 18/30\n",
      "1593/1593 [==============================] - 0s 175us/sample - loss: 0.3389 - accuracy: 0.8688 - val_loss: 0.4988 - val_accuracy: 0.7444\n",
      "Epoch 19/30\n",
      "1593/1593 [==============================] - 0s 170us/sample - loss: 0.3236 - accuracy: 0.8788 - val_loss: 0.5072 - val_accuracy: 0.7343\n",
      "Epoch 20/30\n",
      "1593/1593 [==============================] - 0s 112us/sample - loss: 0.3102 - accuracy: 0.8851 - val_loss: 0.4802 - val_accuracy: 0.7719\n",
      "Epoch 21/30\n",
      "1593/1593 [==============================] - 0s 76us/sample - loss: 0.2994 - accuracy: 0.8927 - val_loss: 0.4878 - val_accuracy: 0.7569\n",
      "Epoch 22/30\n",
      "1593/1593 [==============================] - 0s 70us/sample - loss: 0.2978 - accuracy: 0.8839 - val_loss: 0.5162 - val_accuracy: 0.7243\n",
      "Epoch 23/30\n",
      "1593/1593 [==============================] - 0s 100us/sample - loss: 0.2783 - accuracy: 0.8870 - val_loss: 0.4872 - val_accuracy: 0.7644\n",
      "Epoch 24/30\n",
      "1593/1593 [==============================] - 0s 135us/sample - loss: 0.2720 - accuracy: 0.8939 - val_loss: 0.4907 - val_accuracy: 0.7544\n",
      "Epoch 25/30\n",
      "1593/1593 [==============================] - 0s 192us/sample - loss: 0.2648 - accuracy: 0.8964 - val_loss: 0.5039 - val_accuracy: 0.7419\n",
      "Epoch 26/30\n",
      "1593/1593 [==============================] - 0s 98us/sample - loss: 0.2556 - accuracy: 0.8983 - val_loss: 0.5011 - val_accuracy: 0.7494\n",
      "Epoch 27/30\n",
      "1593/1593 [==============================] - 0s 107us/sample - loss: 0.2490 - accuracy: 0.8996 - val_loss: 0.4947 - val_accuracy: 0.7544\n",
      "Epoch 28/30\n",
      "1593/1593 [==============================] - 0s 160us/sample - loss: 0.2437 - accuracy: 0.9033 - val_loss: 0.5311 - val_accuracy: 0.7293\n",
      "Epoch 29/30\n",
      "1593/1593 [==============================] - 0s 143us/sample - loss: 0.2373 - accuracy: 0.9077 - val_loss: 0.5252 - val_accuracy: 0.7368\n",
      "Epoch 30/30\n",
      "1593/1593 [==============================] - 0s 170us/sample - loss: 0.2318 - accuracy: 0.9115 - val_loss: 0.4973 - val_accuracy: 0.7719\n"
     ]
    }
   ],
   "source": [
    "num_epochs = 30\n",
    "history = model.fit(training_padded, training_labels_final, \n",
    "                    epochs=num_epochs, \n",
    "                    validation_data=(testing_padded, \n",
    "                                     testing_labels_final))"
   ]
  },
  {
   "cell_type": "markdown",
   "metadata": {},
   "source": [
    "### Generating plots after tweaking"
   ]
  },
  {
   "cell_type": "code",
   "execution_count": 42,
   "metadata": {},
   "outputs": [
    {
     "data": {
      "image/png": "[encoded data removed]",
      "text/plain": [
       "<Figure size 432x288 with 1 Axes>"
      ]
     },
     "metadata": {
      "needs_background": "light"
     },
     "output_type": "display_data"
    },
    {
     "data": {
      "image/png": "[encoded data removed]",
      "text/plain": [
       "<Figure size 432x288 with 1 Axes>"
      ]
     },
     "metadata": {
      "needs_background": "light"
     },
     "output_type": "display_data"
    }
   ],
   "source": [
    "import matplotlib.pyplot as plt\n",
    "\n",
    "\n",
    "def plot_graphs(history, string):\n",
    "    plt.plot(history.history[string])\n",
    "    plt.plot(history.history['val_'+string])\n",
    "    plt.xlabel(\"Epochs\")\n",
    "    plt.ylabel(string)\n",
    "    plt.legend([string, 'val_'+string])\n",
    "    plt.show()\n",
    "\n",
    "plot_graphs(history, \"accuracy\")\n",
    "plot_graphs(history, \"loss\")"
   ]
  },
  {
   "cell_type": "markdown",
   "metadata": {},
   "source": [
    "## Testing the model"
   ]
  },
  {
   "cell_type": "code",
   "execution_count": null,
   "metadata": {},
   "outputs": [],
   "source": [
    "# Use the model to predict a review   \n",
    "fake_reviews = ['I love this phone', 'I hate spaghetti', \n",
    "                'Everything was cold',\n",
    "                'Everything was hot exactly as I wanted', \n",
    "                'Everything was green', \n",
    "                'the host seated us immediately',\n",
    "                'they gave us free chocolate cake', \n",
    "                'not sure about the wilted flowers on the table',\n",
    "                'only works when I stand on tippy toes', \n",
    "                'does not work when I stand on my head']\n",
    "\n",
    "print(fake_reviews) \n",
    "\n",
    "# Create the sequences\n",
    "padding_type='post'\n",
    "sample_sequences = tokenizer.texts_to_sequences(fake_reviews)\n",
    "fakes_padded = pad_sequences(sample_sequences, padding=padding_type, maxlen=max_length)           \n",
    "\n",
    "print('\\nHOT OFF THE PRESS! HERE ARE SOME NEWLY MINTED, ABSOLUTELY GENUINE REVIEWS!\\n')              \n",
    "\n",
    "classes = model.predict(fakes_padded)\n",
    "\n",
    "# The closer the class is to 1, the more positive the review is deemed to be\n",
    "for x in range(len(fake_reviews)):\n",
    "    print(fake_reviews[x])\n",
    "    print(classes[x])\n",
    "    print('\\n')\n",
    "\n",
    "# Try adding reviews of your own\n",
    "# Add some negative words (such as \"not\") to the good reviews and see what happens\n",
    "# For example:\n"
   ]
  },
  {
   "cell_type": "code",
   "execution_count": 48,
   "metadata": {},
   "outputs": [],
   "source": [
    "eg = tokenizer.texts_to_sequences([\"they gave us free chocolate cake and did not charge us\"])"
   ]
  },
  {
   "cell_type": "code",
   "execution_count": 51,
   "metadata": {},
   "outputs": [
    {
     "data": {
      "text/plain": [
       "array([[0.7134279]], dtype=float32)"
      ]
     },
     "execution_count": 51,
     "metadata": {},
     "output_type": "execute_result"
    }
   ],
   "source": [
    "model.predict(pad_sequences(eg, padding=padding_type, maxlen=max_length))"
   ]
  },
  {
   "cell_type": "code",
   "execution_count": null,
   "metadata": {},
   "outputs": [],
   "source": []
  }
 ],
 "metadata": {
  "kernelspec": {
   "display_name": "Python 3",
   "language": "python",
   "name": "python3"
  },
  "language_info": {
   "codemirror_mode": {
    "name": "ipython",
    "version": 3
   },
   "file_extension": ".py",
   "mimetype": "text/x-python",
   "name": "python",
   "nbconvert_exporter": "python",
   "pygments_lexer": "ipython3",
   "version": "3.7.7"
  }
 },
 "nbformat": 4,
 "nbformat_minor": 4
}
